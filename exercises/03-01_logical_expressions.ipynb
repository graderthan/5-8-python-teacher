{
 "cells": [
  {
   "cell_type": "markdown",
   "metadata": {},
   "source": [
    "# Logical Expressions\n",
    "\n",
    "Logical expressions in Python are like the brain's decision-making moments. Just like you decide if it's a good idea to wear a jacket based on the weather, Python uses logical expressions to make decisions. These decisions are always about figuring out if something is `True` or `False`. Let's dive into this cool concept! 🧠✨\n",
    "\n",
    "## True and False: The Basics\n",
    "\n",
    "In Python, every logical expression is evaluated to either `True` or `False`. These are special values in Python:\n",
    "- `True` is like saying \"Yes, this statement is correct.\"\n",
    "- `False` is like saying \"Nope, this statement is not correct.\"\n",
    "\n",
    "## Comparisons: Making Decisions\n",
    "\n",
    "Now, how do we make these True or False decisions? We use comparison operators. Think of them as questions you're asking Python. Here are some of the main ones:\n",
    "\n",
    "- **`<` (Less Than):** Is the number on the left smaller than the one on the right? Like, is 3 `<` 5? Yes, so it's `True`.\n",
    "\n",
    "- **`>` (Greater Than):** Is the number on the left bigger than the one on the right? For example, is 7 `>` 4? Yup, that's `True`.\n",
    "\n",
    "- **`<=` (Less Than or Equal to):** Is the number on the left smaller than or equal to the one on the right? Like, is 3 `<=` 3? Yes, it's equal, so it's `True`.\n",
    "\n",
    "- **`>=` (Greater Than or Equal to):** Is the number on the left greater than or equal to the one on the right? So, is 7 `>=` 5? It is greater, so that's `True`.\n",
    "\n",
    "- **`==` (Equal to):** Are the two numbers or items exactly the same? Like, is 5 `==` 5? They are the same, so it's `True`.\n",
    "\n",
    "- **`!=` (Not Equal to):** Are the two numbers or items different? For instance, is 5 `!=` 3? They are different, so that's `True`.\n",
    "\n",
    "### How Python Uses These\n",
    "\n",
    "Python uses these True or False answers to make decisions in your code, like choosing different paths to take or figuring out which code to run. It's like a crossroads where Python asks itself, \"Should I go this way or that way?\" based on the True or False answer.\n",
    "\n",
    "### In a Nutshell\n",
    "\n",
    "Logical expressions are super handy for making decisions in your code. They help Python choose different paths or actions based on whether something is `True` (like, \"Yes, this condition is met\") or `False` (like, \"No, this condition isn't met\").\n",
    "\n",
    "So, next time you're coding, and you need Python to make a choice, remember these logical expressions - they're your decision-making tools in the world of programming! 🚦🤔💡"
   ]
  },
  {
   "cell_type": "markdown",
   "metadata": {},
   "source": [
    "### Examples of Comparison Operators in Python\n",
    "\n",
    "Let’s look at some simple examples using those comparison operators we just talked about. Each example is like a mini-question we ask Python, and it answers with `True` or `False`.\n"
   ]
  },
  {
   "cell_type": "markdown",
   "metadata": {},
   "source": [
    "#### Example 1: Less Than `<`"
   ]
  },
  {
   "cell_type": "code",
   "execution_count": null,
   "metadata": {},
   "outputs": [],
   "source": [
    "print(4 < 7)"
   ]
  },
  {
   "cell_type": "markdown",
   "metadata": {},
   "source": [
    "Here, we're asking: \"Is 4 less than 7?\" Python checks and sees that yes, 4 is\n",
    "indeed less than 7. So, it answers `True`.\n",
    "\n",
    "Try reversing the numbers in the logical expression above and rerun the code to\n",
    "checkout the results!"
   ]
  },
  {
   "cell_type": "markdown",
   "metadata": {},
   "source": [
    "#### Example 2: Greater Than `>`"
   ]
  },
  {
   "cell_type": "code",
   "execution_count": null,
   "metadata": {},
   "outputs": [],
   "source": [
    "print(10 > 5)"
   ]
  },
  {
   "cell_type": "markdown",
   "metadata": {},
   "source": [
    "This time, we're asking: \"Is 10 greater than 5?\" And since 10 is indeed more than 5, Python tells us `True`.\n",
    "\n",
    "Try reversing the numbers in the logical expression above and rerun the code to\n",
    "checkout the results!"
   ]
  },
  {
   "cell_type": "markdown",
   "metadata": {},
   "source": [
    "#### Example 3: Less Than or Equal to `<=`"
   ]
  },
  {
   "cell_type": "code",
   "execution_count": null,
   "metadata": {},
   "outputs": [],
   "source": [
    "print(3 <= 3)"
   ]
  },
  {
   "cell_type": "markdown",
   "metadata": {},
   "source": [
    "Now we ask: \"Is 3 less than or equal to 3?\" It's not less, but it is equal. So,\n",
    "Python says `True` because one of the conditions (equal to) is true.\n",
    "\n",
    "Try reversing the numbers in the logical expression above and rerun the code to\n",
    "checkout the results!"
   ]
  },
  {
   "cell_type": "markdown",
   "metadata": {},
   "source": [
    "#### Example 4: Greater Than or Equal to `>=`"
   ]
  },
  {
   "cell_type": "code",
   "execution_count": null,
   "metadata": {},
   "outputs": [],
   "source": [
    "print(6 >= 10)"
   ]
  },
  {
   "cell_type": "markdown",
   "metadata": {},
   "source": [
    "Here, the question is: \"Is 6 greater than or equal to 10?\" It's neither greater\n",
    "than nor equal to 10, so Python says `False`.\n",
    "\n",
    "Try reversing the numbers in the logical expression above and rerun the code to\n",
    "checkout the results!"
   ]
  },
  {
   "cell_type": "markdown",
   "metadata": {},
   "source": [
    "#### Example 5: Equal to `==`"
   ]
  },
  {
   "cell_type": "code",
   "execution_count": null,
   "metadata": {},
   "outputs": [],
   "source": [
    "print(8 == 8)\n",
    "\n",
    "print(\"hello\" == \"Hello\")\n",
    "\n",
    "print(\"hello\" == \"hello\")"
   ]
  },
  {
   "cell_type": "markdown",
   "metadata": {},
   "source": [
    "```python\n",
    "print(8 == 8)\n",
    "```\n",
    "\n",
    "We're checking: \"Is 8 equal to 8?\" It is, so Python gives us a `True`.\n",
    "\n",
    "```python\n",
    "print(\"hello\" == \"Hello\")\n",
    "```\n",
    "\n",
    "In this line, we're asking Python: \"Is the string 'hello' exactly the same as 'Hello'?\" Python looks at this and sees that the first letter 'h' is lowercase in the first string but uppercase in the second. Since Python is case-sensitive (meaning it treats uppercase and lowercase letters as different), it decides that these two strings are not the same. So, Python responds with `False`.\n",
    "\n",
    "```python\n",
    "print(\"hello\" == \"hello\")\n",
    "```\n",
    "\n",
    "Here, we're asking: \"Is the string 'hello' equal to another string 'hello'?\" This time, both strings are exactly the same, letter for letter, and since Python is very precise about this, it says `True`. "
   ]
  },
  {
   "cell_type": "markdown",
   "metadata": {},
   "source": [
    "#### Example 6: Not Equal to `!=`"
   ]
  },
  {
   "cell_type": "code",
   "execution_count": null,
   "metadata": {},
   "outputs": [],
   "source": [
    "print(5 != 3)\n",
    "\n",
    "print(\"hello\" != \"Hello\")\n",
    "\n",
    "print(\"hello\" != \"hello\")"
   ]
  },
  {
   "cell_type": "markdown",
   "metadata": {},
   "source": [
    "```py\n",
    "print(5 != 3)\n",
    "```\n",
    "\n",
    "Here, we're asking Python: \"Is 5 not equal to 3?\" Since 5 and 3 are indeed different numbers, Python agrees with us and says `True`. It's like saying, \"Yes, you're right, 5 and 3 are not the same!\"\n",
    "\n",
    "```py\n",
    "print(\"hello\" == \"Hello\")\n",
    "```\n",
    "\n",
    "In this part, we're asking Python: \"Is the string 'hello' different from 'Hello'?\" Remember, Python treats uppercase and lowercase letters as different characters. So, even though the words look similar, the lowercase 'h' in 'hello' and the uppercase 'H' in 'Hello' mean they are not the same. Python recognizes this difference and answers with `True`, meaning yes, they are not equal.\n",
    "\n",
    "\n",
    "```py\n",
    "print(\"hello\" == \"hello\")\n",
    "```\n",
    "\n",
    "Now, we're checking: \"Is 'hello' not the same as 'hello'?\" This time, both strings are exactly the same, every letter matches. So, Python tells us `False` because 'hello' is indeed equal to 'hello', and therefore, they are not 'not equal'. It's a bit of a double negative — if two things are the same, 'not equal' (or `!=`) is False."
   ]
  },
  {
   "cell_type": "markdown",
   "metadata": {},
   "source": [
    "\n",
    "### Wrapping Up\n",
    "\n",
    "In each example, we asked Python a simple question using comparison operators.\n",
    "Depending on the numbers we compared, Python gave us `True` or `False`. These\n",
    "examples are like the foundation for making decisions in programming. With them,\n",
    "you can tell Python how to react in different situations based on the answers to\n",
    "these True/False questions. It's like a superpower for controlling your code's\n",
    "flow! 💥🔍🌟\n",
    "\n",
    "---"
   ]
  },
  {
   "cell_type": "markdown",
   "metadata": {},
   "source": [
    "## Expanding Our Chat on Logical Expressions: Meet `and`, `or`, and `not`\n",
    "\n",
    "Alright, so we've talked about comparisons and how they're like asking Python simple yes-or-no questions. Now, let's add a twist with the `and`, `or`, and `not` operators. These are like the connectors in our decision-making. Think of them as helping us make more complex choices! 🤹‍♂️🧩\n"
   ]
  },
  {
   "cell_type": "markdown",
   "metadata": {},
   "source": [
    "### The `and` Operator: Both Must Be True\n",
    "\n",
    "Think of `and` as the strict rule-keeper. It only says `True` if *both* things you're checking are true. It's like needing two 'Yes'es for a green light.\n",
    "\n",
    "Here’s how it works:\n",
    "\n",
    "```python\n",
    "print(True and True)   # Both are true, so this is True\n",
    "print(True and False)  # One is false, so this is False\n",
    "```\n"
   ]
  },
  {
   "cell_type": "markdown",
   "metadata": {},
   "source": [
    "#### Try out this example:\n",
    "\n",
    "In Python code, you might see something like. Run the code and see what happens:\n"
   ]
  },
  {
   "cell_type": "code",
   "execution_count": null,
   "metadata": {},
   "outputs": [],
   "source": [
    "print((5 > 3) and (2 < 4)) "
   ]
  },
  {
   "cell_type": "markdown",
   "metadata": {},
   "source": [
    "This line of code asks Python to do two checks and then decide if both are true:\n",
    "\n",
    "1. **`5 > 3`:** First, it checks if 5 is greater than 3. It is, so this part is `True`.\n",
    "2. **`2 < 4`:** Next, it checks if 2 is less than 4. That's also true, so this part is `True` as well.\n",
    "\n",
    "Now, because we're using the `and` operator, Python will only say the whole statement is `True` if *both* parts are `True`. It's like saying, \"Both of these things must be right for me to agree.\"\n",
    "\n",
    "Since both `5 > 3` and `2 < 4` are `True`, the `and` operator tells Python that the entire expression is `True`. So, when we print it out, we see `True` on the screen.\n",
    "\n",
    "It's like you're asking, \"Is 5 bigger than 3 AND is 2 smaller than 4?\" And Python says, \"Yes, both are correct!\" 🌟👍"
   ]
  },
  {
   "cell_type": "markdown",
   "metadata": {},
   "source": [
    "### The `or` Operator: Just One Needs to Be True\n",
    "\n",
    "Now, `or` is more laid-back. It’s happy if *either* of the things you're checking is true. Just one 'Yes' is enough for it.\n",
    "\n",
    "Here’s an example:\n",
    "\n",
    "```python\n",
    "print(True or False)  # One is true, so this is True\n",
    "print(False or False) # Both are false, so this is False\n",
    "```\n"
   ]
  },
  {
   "cell_type": "markdown",
   "metadata": {},
   "source": [
    "#### Try out this example:\n",
    "\n",
    "In Python, it might look like. Run the code and see what happens:"
   ]
  },
  {
   "cell_type": "code",
   "execution_count": null,
   "metadata": {},
   "outputs": [],
   "source": [
    "print((5 > 3) or (2 > 4))"
   ]
  },
  {
   "cell_type": "markdown",
   "metadata": {},
   "source": [
    "This line is asking Python two separate questions and using the `or` operator to decide the overall answer. Let's break it down:\n",
    "\n",
    "1. **`5 > 3`:** The first part checks if 5 is greater than 3. Yes, it is, so this part is `True`.\n",
    "\n",
    "2. **`2 > 4`:** The second part checks if 2 is greater than 4. No, it's not, so this part is `False`.\n",
    "\n",
    "Now, because we're using the `or` operator, Python will say the whole expression is `True` if *either* part (or both) is `True`. The `or` operator is like a friendly team player who is happy if at least one member succeeds.\n",
    "\n",
    "Since the first part (`5 > 3`) is `True`, even though the second part (`2 > 4`) is `False`, the `or` operator decides the entire expression is `True`.\n",
    "\n",
    "It's as if you're asking, \"Is 5 bigger than 3 OR is 2 bigger than 4?\" And Python says, \"Well, at least one of these is right, so my answer is `True`!\" 🎉✅"
   ]
  },
  {
   "cell_type": "markdown",
   "metadata": {},
   "source": [
    "\n",
    "### The `not` Operator: Flipping the Answer\n",
    "\n",
    "`not` is the rebel. It flips the answer. If something is `True`, `not` makes it `False`, and vice versa. It's like saying \"Just the opposite, please!\"\n",
    "\n",
    "Check this out:\n",
    "\n",
    "```python\n",
    "print(not True)  # This becomes False\n",
    "print(not False) # And this becomes True\n",
    "```\n"
   ]
  },
  {
   "cell_type": "markdown",
   "metadata": {},
   "source": [
    "#### Try out this example:\n",
    "\n",
    "In a Python condition, you could see the code below. Run the code and see what happens:"
   ]
  },
  {
   "cell_type": "code",
   "execution_count": null,
   "metadata": {},
   "outputs": [],
   "source": [
    "print(not (5 > 3))"
   ]
  },
  {
   "cell_type": "markdown",
   "metadata": {},
   "source": [
    "Here's what's happening step by step:\n",
    "\n",
    "1. **`5 > 3`:** First, Python checks if 5 is greater than 3. This is true, so `5 > 3` is `True`.\n",
    "\n",
    "2. **`not`:** Now, here comes the twist with `not`. The `not` operator takes the `True` result from `5 > 3` and flips it to the opposite. So, `not True` becomes `False`.\n",
    "\n",
    "So, when we print this out, the result is `False`. It's like asking Python, \"Is it not true that 5 is greater than 3?\" And Python says, \"Nope, it is true, but since you asked for 'not', the answer is False.\" \n",
    "\n",
    "It's a bit like saying, \"I know 5 is bigger than 3, but I want the opposite of that fact.\" 🔄🤔"
   ]
  },
  {
   "cell_type": "markdown",
   "metadata": {},
   "source": [
    "\n",
    "### Putting It All Together\n",
    "\n",
    "You can combine `and`, `or`, and `not` to make complex decisions. Imagine you're planning an outdoor lunch. You might think, \"If it's sunny or partly cloudy (that's `or`), and I'm not busy (that's `not`), then yes, let's do it!\"\n",
    "\n",
    "In Python, that's like:\n"
   ]
  },
  {
   "cell_type": "code",
   "execution_count": null,
   "metadata": {},
   "outputs": [],
   "source": [
    "is_sunny = True\n",
    "is_partly_cloudy = False\n",
    "am_busy = False\n",
    "\n",
    "go_for_lunch = (is_sunny or is_partly_cloudy) and not am_busy\n",
    "print(go_for_lunch)  # This would be True, time for lunch!"
   ]
  },
  {
   "cell_type": "markdown",
   "metadata": {},
   "source": [
    "\n",
    "So, `and`, `or`, and `not` help Python make more complex decisions, kind of like how we decide what to do in different situations. With them, your code can handle more intricate choices and react in just the right way! 🌤️🍽️🚫👍"
   ]
  }
 ],
 "metadata": {
  "language_info": {
   "name": "python"
  },
  "orig_nbformat": 4
 },
 "nbformat": 4,
 "nbformat_minor": 2
}
