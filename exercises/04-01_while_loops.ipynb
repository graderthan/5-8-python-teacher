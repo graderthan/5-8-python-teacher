{
 "cells": [
  {
   "cell_type": "markdown",
   "metadata": {},
   "source": [
    "# Let's Talk About While Loops\n",
    "\n",
    "Hey there! 🌟 Have you ever listened to your favorite song on repeat, or maybe you've run around a track several times? In the world of programming, we have something similar called loops. Today, let's chat about a special kind called \"while loops\" in Python.\n"
   ]
  },
  {
   "cell_type": "markdown",
   "metadata": {},
   "source": [
    "\n",
    "## What's a Loop?\n",
    "\n",
    "Imagine you have a playlist with just one song. When the song ends, it starts over again, and again, and again, until you decide to stop. A loop in programming is kind of like that. It's a way to repeat a piece of code over and over again.\n"
   ]
  },
  {
   "cell_type": "markdown",
   "metadata": {},
   "source": [
    "\n",
    "## Meet the While Loop\n",
    "\n",
    "A \"while loop\" is a super useful type of loop. It keeps running a block of code as long as a certain condition is true.\n"
   ]
  },
  {
   "cell_type": "markdown",
   "metadata": {},
   "source": [
    "\n",
    "## Syntax of a While Loop\n",
    "\n",
    "Here's how you write a while loop in Python:\n",
    "\n",
    "```python\n",
    "while some_condition_is_true:\n",
    "    do_something_over_and_over()\n",
    "```\n",
    "\n",
    "- **`while`**: This keyword starts the loop.\n",
    "- **`some_condition_is_true`**: This is a condition, just like in an if-statement. As long as this is true, the loop keeps going.\n",
    "- **Indented Code Block**: Whatever you put here (indented under the while) will repeat. It's the song in your playlist!\n"
   ]
  },
  {
   "cell_type": "markdown",
   "metadata": {},
   "source": [
    "\n",
    "## While Loops vs. If-Statements\n",
    "\n",
    "You might think, \"Hey, this looks like an if-statement!\" And you're right! But there's a cool difference. An if-statement does something once if the condition is true. A while loop keeps doing it over and over as long as the condition stays true. It's like an if-statement with a 'repeat' button!\n"
   ]
  },
  {
   "cell_type": "markdown",
   "metadata": {},
   "source": [
    "### Example Time!"
   ]
  },
  {
   "cell_type": "code",
   "execution_count": null,
   "metadata": {},
   "outputs": [],
   "source": [
    "count = 0\n",
    "while count < 5:\n",
    "    print(\"I'm looping!\")\n",
    "    count = count + 1"
   ]
  },
  {
   "cell_type": "markdown",
   "metadata": {},
   "source": [
    "In this example, `count < 5` is our condition. We start with `count` at 0. Each\n",
    "time the loop runs, it prints \"I'm looping!\" and then adds 1 to `count`. When\n",
    "`count` reaches 5, the condition `count < 5` is no longer true, so the loop\n",
    "stops.\n",
    "\n",
    "**Try it out**\n",
    "\n",
    "Try modifying the code above so it prints \"I'm looping\" 10 times instead of 5 times.\n"
   ]
  },
  {
   "cell_type": "markdown",
   "metadata": {},
   "source": [
    "\n",
    "### In a Nutshell\n",
    "\n",
    "While loops are like a fun repeat game in coding. They keep running a set of instructions until a certain condition is no longer true. It's a handy tool to make your code do repetitive tasks without you having to write the same thing many times. So, next time you need to repeat something in your code, think of a while loop as your go-to DJ! 🔄🎶💻"
   ]
  },
  {
   "cell_type": "markdown",
   "metadata": {},
   "source": [
    "TODO:\n",
    "\n",
    "[ ] Break this section up\n",
    "\n",
    "[ ] Add coding challenges \n",
    "\n",
    "[ ] Add Turtle coding challenge to make a continuous remote \n",
    "\n",
    "[ ] Finish for loops\n",
    "\n",
    "### Exploring the Break Statement in While Loops\n",
    "\n",
    "Alright, now that we've got the hang of while loops, let's add a cool trick to our toolbox: the `break` statement. It's like having an emergency stop button for your loops! 🛑✋\n",
    "\n",
    "#### What is the Break Statement?\n",
    "\n",
    "Imagine you're running around a track, and you plan to do 10 laps. But suddenly, it starts to rain, and you want to stop immediately, no matter what lap you're on. In programming, when you're in a loop and want to stop it before the normal condition is met, you use `break`.\n",
    "\n",
    "#### How Does `break` Work?\n",
    "\n",
    "`break` is a simple word you write inside a loop. When Python sees `break`, it immediately stops the loop, even if the loop's original condition is still true.\n",
    "\n",
    "#### Syntax with Break in a While Loop\n",
    "\n",
    "Here's how you might use `break` in a while loop:\n",
    "\n",
    "```python\n",
    "while True:\n",
    "    user_input = input(\"Enter 'exit' to stop: \")\n",
    "    if user_input == \"exit\":\n",
    "        break\n",
    "    print(\"You entered:\", user_input)\n",
    "```\n",
    "\n",
    "- This loop starts with `while True`, which means it would normally run forever.\n",
    "- Inside the loop, it asks for user input.\n",
    "- If you type \"exit\", the `if user_input == \"exit\":` condition becomes true, and `break` gets executed. This immediately stops the loop.\n",
    "- If you type anything else, it prints what you typed and then goes back to the start of the loop.\n",
    "\n",
    "#### Break vs. Loop Condition\n",
    "\n",
    "Without `break`, a while loop stops only when its condition becomes false. But sometimes, you can't know in advance when to stop, or the condition to stop is more complicated. That's where `break` shines – it gives you the power to stop the loop whenever you need to, based on whatever happens inside the loop.\n",
    "\n",
    "#### Why Use Break?\n",
    "\n",
    "Using `break` can make your code more flexible and responsive. It's especially useful in situations where:\n",
    "- You're waiting for something specific to happen, but you don't know when it will.\n",
    "- You want to stop the loop based on a user's action.\n",
    "- You're testing your code and want to avoid infinite loops by mistake.\n",
    "\n",
    "### In a Nutshell\n",
    "\n",
    "`break` is like an escape hatch for loops. It gives you control over when to stop the loop, regardless of the original while condition. Just remember to use it wisely – it's a powerful tool that can make your loops smarter and more responsive! 🔄🛑💡"
   ]
  }
 ],
 "metadata": {
  "language_info": {
   "name": "python"
  },
  "orig_nbformat": 4
 },
 "nbformat": 4,
 "nbformat_minor": 2
}
