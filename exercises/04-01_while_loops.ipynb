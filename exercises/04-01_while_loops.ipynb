{
 "cells": [
  {
   "cell_type": "markdown",
   "metadata": {},
   "source": [
    "# Let's Talk About While Loops\n",
    "\n",
    "Hey there! 🌟 Have you ever listened to your favorite song on repeat, or maybe you've run around a track several times? In the world of programming, we have something similar called loops. Today, let's chat about a special kind called \"while loops\" in Python.\n"
   ]
  },
  {
   "cell_type": "markdown",
   "metadata": {},
   "source": [
    "\n",
    "## What's a Loop?\n",
    "\n",
    "Imagine you have a playlist with just one song. When the song ends, it starts over again, and again, and again, until you decide to stop. A loop in programming is kind of like that. It's a way to repeat a piece of code over and over again.\n"
   ]
  },
  {
   "cell_type": "markdown",
   "metadata": {},
   "source": [
    "\n",
    "## Meet the While Loop\n",
    "\n",
    "A \"while loop\" is a super useful type of loop. It keeps running a block of code as long as a certain condition is true.\n"
   ]
  },
  {
   "cell_type": "markdown",
   "metadata": {},
   "source": [
    "\n",
    "## Syntax of a While Loop\n",
    "\n",
    "Here's how you write a while loop in Python:\n",
    "\n",
    "```python\n",
    "while some_condition_is_true:\n",
    "    do_something_over_and_over()\n",
    "```\n",
    "\n",
    "- **`while`**: This keyword starts the loop.\n",
    "- **`some_condition_is_true`**: This is a condition, just like in an if-statement. As long as this is true, the loop keeps going.\n",
    "- **Indented Code Block**: Whatever you put here (indented under the while) will repeat. It's the song in your playlist!\n"
   ]
  },
  {
   "cell_type": "markdown",
   "metadata": {},
   "source": [
    "\n",
    "## While Loops vs. If-Statements\n",
    "\n",
    "You might think, \"Hey, this looks like an if-statement!\" And you're right! But there's a cool difference. An if-statement does something once if the condition is true. A while loop keeps doing it over and over as long as the condition stays true. It's like an if-statement with a 'repeat' button!\n"
   ]
  },
  {
   "cell_type": "markdown",
   "metadata": {},
   "source": [
    "### Example Time!\n",
    "\n",
    "Let's compare and `if` statement with a `while` loop.\n",
    "\n",
    "**`if` statement**"
   ]
  },
  {
   "cell_type": "code",
   "execution_count": null,
   "metadata": {},
   "outputs": [],
   "source": [
    "count = 0\n",
    "if count < 5:\n",
    "    print(\"I'm looping! \"+str(count))\n",
    "    count = count + 1"
   ]
  },
  {
   "cell_type": "markdown",
   "metadata": {},
   "source": [
    "In this example, `count < 5` is our condition. We start with `count` at 0. The\n",
    "`if` statement, prints \"I'm looping!\" and then adds 1 to `count` once.\n",
    "\n",
    "**`while` statement**"
   ]
  },
  {
   "cell_type": "code",
   "execution_count": null,
   "metadata": {},
   "outputs": [],
   "source": [
    "count = 0\n",
    "while count < 5:\n",
    "    print(\"I'm looping! \"+str(count))\n",
    "    count = count + 1"
   ]
  },
  {
   "cell_type": "markdown",
   "metadata": {},
   "source": [
    "In this example, `count < 5` is our condition. We start with `count` at 0. Each\n",
    "time the loop runs, it prints \"I'm looping!\" and then adds 1 to `count`. When\n",
    "`count` reaches 5, the condition `count < 5` is no longer true, so the loop\n",
    "stops.\n",
    "\n",
    "As you can see the difference between the `if` statement and the `while` loop is\n",
    "that the `if` statement runs only once while the `while` loop keeps going.\n",
    "\n",
    "**Try it out**\n",
    "\n",
    "Try modifying the code above so it prints \"I'm looping\" 10 times instead of 5 times.\n"
   ]
  },
  {
   "cell_type": "markdown",
   "metadata": {},
   "source": [
    "\n",
    "### In a Nutshell\n",
    "\n",
    "While loops are like a fun repeat game in coding. They keep running a set of instructions until a certain condition is no longer true. It's a handy tool to make your code do repetitive tasks without you having to write the same thing many times. So, next time you need to repeat something in your code, think of a while loop as your go-to DJ! 🔄🎶💻"
   ]
  },
  {
   "cell_type": "markdown",
   "metadata": {},
   "source": [
    "\n",
    "## Exploring the Break Statement in While Loops\n",
    "\n",
    "Alright, now that we've got the hang of while loops, let's add a cool trick to our toolbox: the `break` statement. It's like having an emergency stop button for your loops! 🛑✋"
   ]
  },
  {
   "cell_type": "markdown",
   "metadata": {},
   "source": [
    "### What is the Break Statement?\n",
    "\n",
    "Imagine you're running around a track, and you plan to do 10 laps. But suddenly, it starts to rain, and you want to stop immediately, no matter what lap you're on. In programming, when you're in a loop and want to stop it before the normal condition is met, you use `break`.\n",
    "\n",
    "### How Does `break` Work?\n",
    "\n",
    "`break` is a simple word you write inside a loop. When Python sees `break`, it immediately stops the loop, even if the loop's original condition is still true.\n",
    "\n",
    "### Syntax with Break in a While Loop\n",
    "\n",
    "Here's an example of how you might use the `break` statement in a while loop.\n",
    "\n",
    "Try running the code below. Type in several random words and then type \"exit\":\n"
   ]
  },
  {
   "cell_type": "code",
   "execution_count": null,
   "metadata": {},
   "outputs": [],
   "source": [
    "while True:\n",
    "    user_input = input(\"Enter 'exit' to stop: \")\n",
    "    if user_input == \"exit\":\n",
    "        print(\"Goodbye!\")\n",
    "        break\n",
    "    print(\"You entered:\", user_input)"
   ]
  },
  {
   "cell_type": "markdown",
   "metadata": {},
   "source": [
    "\n",
    "- This loop starts with `while True`, which means it would normally run forever.\n",
    "- Inside the loop, it asks for user input.\n",
    "- If you type \"exit\", the `if user_input == \"exit\":` condition becomes true, and `break` gets executed. This immediately stops the loop.\n",
    "- If you type anything else, it prints what you typed and then goes back to the start of the loop.\n",
    "\n",
    "### Break vs. Loop Condition\n",
    "\n",
    "Without `break`, a while loop stops only when its condition becomes false. But sometimes, you can't know in advance when to stop, or the condition to stop is more complicated. That's where `break` shines – it gives you the power to stop the loop whenever you need to, based on whatever happens inside the loop.\n",
    "\n",
    "### Why Use Break?\n",
    "\n",
    "Using `break` can make your code more flexible and responsive. It's especially useful in situations where:\n",
    "- You're waiting for something specific to happen, but you don't know when it will.\n",
    "- You want to stop the loop based on a user's action.\n",
    "- You're testing your code and want to avoid infinite loops by mistake.\n",
    "\n",
    "### In a Nutshell\n",
    "\n",
    "`break` is like an escape hatch for loops. It gives you control over when to\n",
    "stop the loop, regardless of the original while condition. Just remember to use\n",
    "it wisely – it's a powerful tool that can make your loops smarter and more\n",
    "responsive! 🔄🛑💡\n",
    "\n",
    "---"
   ]
  },
  {
   "cell_type": "markdown",
   "metadata": {},
   "source": [
    "# Turtle Challenge\n",
    "\n",
    "Do you remember when we made that cool keyboard remote control 🕹 for `squirtle` using `if` statements? Every time we wanted `squirtle` to do more things, we had to copy and paste those `if` statements again and again. It was a bit like doing the same homework multiple times, and `squirtle` could only do as many things as the times we copied the code.\n",
    "\n",
    "Below is what our original keyboard remote control 🕹 code looked like:\n",
    "\n",
    "```py\n",
    "from ipyturtle import Turtle\n",
    "\n",
    "squirtle = Turtle()\n",
    "\n",
    "user_input = input(\"What do you want to do?\")\n",
    "\n",
    "if user_input == \"right\" or user_input == \"r\":\n",
    "    squirtle.right(90)\n",
    "elif user_input == \"forward\" or user_input == \"f\":\n",
    "    squirtle.forward(100)\n",
    "elif user_input == \"home\" or user_input == \"h\":\n",
    "    squirtle.home()\n",
    "elif user_input == \"left\" or user_input == \"l\":\n",
    "    squirtle.left(90)\n",
    "elif user_input == \"backward\" or user_input == \"b\":\n",
    "    squirtle.backward(100)\n",
    "else:\n",
    "    print(\"I don't understand the command.\")\n",
    "```\n",
    "\n",
    "If we wanted to keep giving `squirtle` commands, we had to copy the code from the line `user_input = input(\"What do...` all the way to `print(\"I don't understand...` and then paste it many times below.\n",
    "\n",
    "## Challenge 1\n",
    "\n",
    "In this challenge, let's use a `while` loop. This way, we won't need to copy and paste our code over and over again. It's like creating a magic spell that keeps running until we decide to stop it!\n",
    "\n",
    "**To Do:**\n",
    "\n",
    "Add a `while` loop to the code below. This will let us keep giving `squirtle` different commands without stopping.\n",
    "\n",
    "**Hint:**\n",
    "\n",
    "Put the `while` loop right above the line of code where you'd normally start copying. Think of it like setting up a repeating cycle right at the point where you want the action to keep going."
   ]
  },
  {
   "cell_type": "code",
   "execution_count": null,
   "metadata": {},
   "outputs": [],
   "source": [
    "from ipyturtle import Turtle\n",
    "\n",
    "squirtle = Turtle()\n",
    "\n",
    "user_input = input(\"What do you want to do?\")\n",
    "\n",
    "if user_input == \"right\" or user_input == \"r\":\n",
    "    squirtle.right(90)\n",
    "elif user_input == \"forward\" or user_input == \"f\":\n",
    "    squirtle.forward(100)\n",
    "elif user_input == \"home\" or user_input == \"h\":\n",
    "    squirtle.home()\n",
    "elif user_input == \"left\" or user_input == \"l\":\n",
    "    squirtle.left(90)\n",
    "elif user_input == \"backward\" or user_input == \"b\":\n",
    "    squirtle.backward(100)\n",
    "else:\n",
    "    print(\"I don't understand the command.\")"
   ]
  },
  {
   "cell_type": "markdown",
   "metadata": {},
   "source": [
    "**WARNING:** To stop the application press the ⏹ button on the left side of the\n",
    "code cell above."
   ]
  },
  {
   "cell_type": "markdown",
   "metadata": {},
   "source": [
    "<style>\n",
    "  .container {\n",
    "    border: 1px solid black;\n",
    "    padding: 10px;\n",
    "    cursor: pointer;\n",
    "    overflow: hidden;\n",
    "    transition: max-height 1s ease-in-out;\n",
    "    max-width:600px;\n",
    "  }\n",
    "  .fade {\n",
    "    transition: opacity 1s ease-in-out;\n",
    "    opacity: 0;\n",
    "    pointer-events: none;\n",
    "    max-height: 0;\n",
    "    white-space: pre;\n",
    "  }\n",
    "  .fade-in {\n",
    "    opacity: 1;\n",
    "    pointer-events: auto;\n",
    "    max-height: 500px; /* Use an arbitrary large height to accommodate the content */\n",
    "  }\n",
    "</style>\n",
    "\n",
    "<div class=\"container\"\n",
    "     onmouseover=\"this.querySelector('.answer').classList.add('fade-in'); this.querySelector('.prompt').classList.remove('fade-in');\"\n",
    "     onmouseout=\"this.querySelector('.answer').classList.remove('fade-in'); this.querySelector('.prompt').classList.add('fade-in');\">\n",
    "    <span class=\"prompt fade-in\">Show answer</span>\n",
    "    <div class=\"answer fade\">\n",
    "    \n",
    "<pre>  \n",
    "from ipyturtle import Turtle\n",
    "\n",
    "squirtle = Turtle()\n",
    "\n",
    "while True:\n",
    "    user_input = input(\"What do you want to do?\")\n",
    "\n",
    "    if user_input == \"right\" or user_input == \"r\":\n",
    "        squirtle.right(90)\n",
    "    elif user_input == \"forward\" or user_input == \"f\":\n",
    "        squirtle.forward(100)\n",
    "    elif user_input == \"home\" or user_input == \"h\":\n",
    "        squirtle.home()\n",
    "    elif user_input == \"left\" or user_input == \"l\":\n",
    "        squirtle.left(90)\n",
    "    elif user_input == \"backward\" or user_input == \"b\":\n",
    "        squirtle.backward(100)\n",
    "    else:\n",
    "        print(\"I don't understand the command.\")\n",
    "</pre>\n",
    "\n",
    "  </div>\n",
    "</div>"
   ]
  },
  {
   "cell_type": "markdown",
   "metadata": {},
   "source": [
    "## Challenge 2\n",
    "\n",
    "Awesome job making it so we can give `squirtle` as many commands as we want!\n",
    "But, have you noticed a little problem? The app keeps going and going, and it\n",
    "won't stop asking for commands. It's like a game that never ends! We need a way\n",
    "to say \"Okay, that's enough\" and close the app.\n",
    "\n",
    "Let's fix this by using what we learned about `elif` statements and `break`.\n",
    "We'll add a special command, like \"exit\" or \"e\", and when we type that, we'll\n",
    "make the app stop using `break`. \n",
    "\n",
    "**To Do:**\n",
    "\n",
    "1) Add a new `elif` statement right before the `else`. This `elif` should check\n",
    "   if you typed \"exit\" or just \"e\". \n",
    "\n",
    "2) Inside this new `elif` statement, put a `break` statement. This is like\n",
    "   hitting the stop button – it will end the loop and close the app. \n",
    "\n",
    "**Hint:**\n",
    "\n",
    "Need a little help? Look back at the example where we talked about `if`\n",
    "statements and using `break` in the \"Syntax with Break in a While Loop\" section.\n",
    "It's like a mini-guide for what you need to do now! \n",
    "\n"
   ]
  },
  {
   "cell_type": "code",
   "execution_count": null,
   "metadata": {},
   "outputs": [],
   "source": [
    "from ipyturtle import Turtle\n",
    "\n",
    "squirtle = Turtle()\n",
    "\n",
    "while True:\n",
    "    user_input = input(\"What do you want to do?\")\n",
    "\n",
    "    if user_input == \"right\" or user_input == \"r\":\n",
    "        squirtle.right(90)\n",
    "    elif user_input == \"forward\" or user_input == \"f\":\n",
    "        squirtle.forward(100)\n",
    "    elif user_input == \"home\" or user_input == \"h\":\n",
    "        squirtle.home()\n",
    "    elif user_input == \"left\" or user_input == \"l\":\n",
    "        squirtle.left(90)\n",
    "    elif user_input == \"backward\" or user_input == \"b\":\n",
    "        squirtle.backward(100)\n",
    "    else:\n",
    "        print(\"I don't understand the command.\")"
   ]
  },
  {
   "cell_type": "markdown",
   "metadata": {},
   "source": [
    "<style>\n",
    "  .container {\n",
    "    border: 1px solid black;\n",
    "    padding: 10px;\n",
    "    cursor: pointer;\n",
    "    overflow: hidden;\n",
    "    transition: max-height 1s ease-in-out;\n",
    "    max-width:600px;\n",
    "  }\n",
    "  .fade {\n",
    "    transition: opacity 1s ease-in-out;\n",
    "    opacity: 0;\n",
    "    pointer-events: none;\n",
    "    max-height: 0;\n",
    "    white-space: pre;\n",
    "  }\n",
    "  .fade-in {\n",
    "    opacity: 1;\n",
    "    pointer-events: auto;\n",
    "    max-height: 500px; /* Use an arbitrary large height to accommodate the content */\n",
    "  }\n",
    "</style>\n",
    "\n",
    "<div class=\"container\"\n",
    "     onmouseover=\"this.querySelector('.answer').classList.add('fade-in'); this.querySelector('.prompt').classList.remove('fade-in');\"\n",
    "     onmouseout=\"this.querySelector('.answer').classList.remove('fade-in'); this.querySelector('.prompt').classList.add('fade-in');\">\n",
    "    <span class=\"prompt fade-in\">Show answer</span>\n",
    "    <div class=\"answer fade\">\n",
    "    \n",
    "<pre>  \n",
    "from ipyturtle import Turtle\n",
    "\n",
    "squirtle = Turtle()\n",
    "\n",
    "while True:\n",
    "    user_input = input(\"What do you want to do?\")\n",
    "\n",
    "    if user_input == \"right\" or user_input == \"r\":\n",
    "        squirtle.right(90)\n",
    "    elif user_input == \"forward\" or user_input == \"f\":\n",
    "        squirtle.forward(100)\n",
    "    elif user_input == \"home\" or user_input == \"h\":\n",
    "        squirtle.home()\n",
    "    elif user_input == \"left\" or user_input == \"l\":\n",
    "        squirtle.left(90)\n",
    "    elif user_input == \"backward\" or user_input == \"b\":\n",
    "        squirtle.backward(100)\n",
    "    elif user_input == \"exit\" or user_input == \"e\":\n",
    "        break\n",
    "    else:\n",
    "        print(\"I don't understand the command.\")\n",
    "</pre>\n",
    "\n",
    "  </div>\n",
    "</div>"
   ]
  },
  {
   "cell_type": "markdown",
   "metadata": {},
   "source": [
    "# Congratulations 🎉🥳\n",
    "\n",
    "![SpongeBob celebrating](./images/04/spongebob_celebration.gif)\n",
    "\n",
    "Your awsome  You should be so proud of yourself. You made your first full Python program!!! "
   ]
  }
 ],
 "metadata": {
  "kernelspec": {
   "display_name": ".venv",
   "language": "python",
   "name": "python3"
  },
  "language_info": {
   "codemirror_mode": {
    "name": "ipython",
    "version": 3
   },
   "file_extension": ".py",
   "mimetype": "text/x-python",
   "name": "python",
   "nbconvert_exporter": "python",
   "pygments_lexer": "ipython3",
   "version": "3.8.10"
  },
  "orig_nbformat": 4
 },
 "nbformat": 4,
 "nbformat_minor": 2
}
