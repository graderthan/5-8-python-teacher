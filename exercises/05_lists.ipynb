{
 "cells": [
  {
   "cell_type": "markdown",
   "metadata": {},
   "source": [
    "# Discovering Lists in Python 📋✨\n",
    "\n",
    "Hey there! Today, let's dive into something really cool in Python called lists. Imagine you have a magic backpack that can hold all sorts of things – pencils, books, snacks, or even your favorite toys. In Python, a list is kind of like that magic backpack!\n"
   ]
  },
  {
   "cell_type": "markdown",
   "metadata": {},
   "source": [
    "\n",
    "## What's a List?\n",
    "\n",
    "A list in Python is a way to store a bunch of items in one place. Just like you might have a list of groceries or a list of your favorite movies, Python uses lists to keep track of multiple items in an organized way.\n"
   ]
  },
  {
   "cell_type": "markdown",
   "metadata": {},
   "source": [
    "\n",
    "## Creating a List\n",
    "\n",
    "Making a list is super easy. You just put different things between square brackets `[]`, separated by commas. Here’s how you do it:\n"
   ]
  },
  {
   "cell_type": "code",
   "execution_count": null,
   "metadata": {},
   "outputs": [],
   "source": [
    "my_stuff = [\"pencil\", \"notebook\", \"snack\", \"toy\"]\n",
    "print(my_stuff)"
   ]
  },
  {
   "cell_type": "markdown",
   "metadata": {},
   "source": [
    "\n",
    "In this example, `my_stuff` is a list that holds four items.\n"
   ]
  },
  {
   "cell_type": "markdown",
   "metadata": {},
   "source": [
    "\n",
    "### Adding Items to a List\n",
    "\n",
    "What if you want to add more items to your list? No problem! You can use the `append()` method. It's like adding another toy to your backpack.\n"
   ]
  },
  {
   "cell_type": "code",
   "execution_count": null,
   "metadata": {},
   "outputs": [],
   "source": [
    "my_stuff.append(\"water bottle\")\n",
    "print(my_stuff)"
   ]
  },
  {
   "cell_type": "markdown",
   "metadata": {},
   "source": [
    "Now, `my_stuff` has a \"water bottle\" added to it."
   ]
  },
  {
   "cell_type": "markdown",
   "metadata": {},
   "source": [
    "### Removing Items from a List\n",
    "\n",
    "Sometimes, you might want to take something out of your list. Just like taking a toy out of your backpack. You can use the `remove()` method for this."
   ]
  },
  {
   "cell_type": "code",
   "execution_count": null,
   "metadata": {},
   "outputs": [],
   "source": [
    "my_stuff.remove(\"snack\")\n",
    "print(my_stuff)"
   ]
  },
  {
   "cell_type": "markdown",
   "metadata": {},
   "source": [
    "This will take \"snack\" out of your list."
   ]
  },
  {
   "cell_type": "markdown",
   "metadata": {},
   "source": [
    "### Accessing Items in a List\n",
    "\n",
    "Accessing items in a list is like picking something out of your backpack. You just need to know its position in the list. In Python, we start counting from 0, not 1. So, the first item is at position 0."
   ]
  },
  {
   "cell_type": "code",
   "execution_count": null,
   "metadata": {},
   "outputs": [],
   "source": [
    "print(my_stuff[0])"
   ]
  },
  {
   "cell_type": "markdown",
   "metadata": {},
   "source": [
    "This prints the first item"
   ]
  },
  {
   "cell_type": "code",
   "execution_count": null,
   "metadata": {},
   "outputs": [],
   "source": [
    "print(my_stuff[1])"
   ]
  },
  {
   "cell_type": "markdown",
   "metadata": {},
   "source": [
    "This prints the second item"
   ]
  },
  {
   "cell_type": "markdown",
   "metadata": {},
   "source": [
    "## Checking if a Value is in a List 🕵️‍♀️🔍\n",
    "\n",
    "Alright, now that we know how to create and use lists, let’s learn another neat trick: checking if something is in our list. It's like quickly peeking into your backpack to see if you packed your favorite snack!\n",
    "\n",
    "### How Do We Do It?\n",
    "\n",
    "In Python, we can easily check if an item is in our list using the `in` keyword.\n",
    "It's like asking, \"Hey, is this thing in my list?\"\n",
    "\n",
    "We would write it in our code like this:\n",
    "\n",
    "```py\n",
    "item in my_list\n",
    "```\n",
    "\n",
    "- **`item`:** This represents the thing you're looking for. It could be a number, a string, or any other type of data.\n",
    "- **`in`:** This is a special keyword in Python. It's used to test if something (like `item`) is a part of something else (like `my_list`).\n",
    "- **`my_list`:** This is the list where you're searching for `item`.\n",
    "- **Result:** The whole expression `item in my_list` gives you `True` if `item` is found in `my_list`, and `False` if it's not.\n",
    "\n",
    "### Example Time!\n",
    "\n",
    "Let's say you have a list of fruits and you want to check if \"banana\" is in your list. Here's how you can do it:\n",
    "\n"
   ]
  },
  {
   "cell_type": "code",
   "execution_count": null,
   "metadata": {},
   "outputs": [],
   "source": [
    "fruits = [\"apple\", \"banana\", \"cherry\"]\n",
    "\n",
    "if \"banana\" in fruits:\n",
    "    print(\"Yes, banana is in the list!\")\n",
    "else:\n",
    "    print(\"Nope, no banana here!\")\n"
   ]
  },
  {
   "cell_type": "markdown",
   "metadata": {},
   "source": [
    "This code asks Python to check if \"banana\" is among the fruits in your list. If it is, it prints out \"Yes, banana is in the list!\" Otherwise, it says, \"Nope, no banana here!\""
   ]
  },
  {
   "cell_type": "markdown",
   "metadata": {},
   "source": [
    "## Counting the size of a list\n",
    "\n",
    "The `len()` function in Python tells you how many items are in a list, string,\n",
    "or other collection. For example, `len([1, 2, 3])` would give you `3` because\n",
    "there are three items in the list. It's like counting how many things you have\n",
    "in a box! 📦🔢 \n",
    "\n",
    "Sure, here's a simple example using the `len()` function:\n"
   ]
  },
  {
   "cell_type": "code",
   "execution_count": null,
   "metadata": {},
   "outputs": [],
   "source": [
    "fruits = [\"apple\", \"banana\", \"cherry\", \"orange\"]\n",
    "\n",
    "number_of_fruits = len(fruits)\n",
    "\n",
    "print(\"There are\", number_of_fruits, \"fruits in the list.\")\n"
   ]
  },
  {
   "cell_type": "markdown",
   "metadata": {},
   "source": [
    "\n",
    "In this example, the `len(fruits)` will calculate the number of items in the `fruits` list, which is `4`. The output of this code will be: \"There are 4 fruits in the list.\" 🍎🍌🍒🍊"
   ]
  },
  {
   "cell_type": "markdown",
   "metadata": {},
   "source": [
    "\n",
    "## In a Nutshell\n",
    "\n",
    "Lists in Python are super handy for keeping track of all sorts of things. You\n",
    "can add to them, remove from them, and grab whatever you need from them. They’re\n",
    "like your digital backpacks for storing all sorts of cool stuff in your code!\n",
    "🎒👩‍💻👨‍💻🌟\n",
    "\n",
    "---"
   ]
  },
  {
   "cell_type": "markdown",
   "metadata": {},
   "source": [
    "## Looping Through Colors in a List with a Turtle 🐢🌈\n",
    "\n",
    "Let's explore how we can use a list of colors in a for loop to control a turtle's actions. Imagine the turtle is an artist, and our list is its palette of colors!\n",
    "\n",
    "### Here's a Fun Example Using Turtle:"
   ]
  },
  {
   "cell_type": "code",
   "execution_count": null,
   "metadata": {},
   "outputs": [],
   "source": [
    "from ipyturtle import Turtle\n",
    "\n",
    "t = Turtle()\n",
    "t.pensize(5)\n",
    "\n",
    "colors = [\"blue\", \"green\", \"red\", \"yellow\"]\n",
    "for color in colors:\n",
    "    t.pencolor(color)\n",
    "    t.forward(50)"
   ]
  },
  {
   "cell_type": "markdown",
   "metadata": {},
   "source": [
    "  In this example:\n",
    "  - **`for` and `in`:** These keywords start the loop.\n",
    "  - **`color`:** This is a temporary variable that takes each color from the list, one by one.\n",
    "  - **`colors`:** This is our list of colors.\n",
    "  - **Inside the Loop:** Each time the loop runs, it does two things:\n",
    "    - Sets the turtle's pen color to the current `color`.\n",
    "    - Moves the turtle forward by 50 units.\n",
    "\n",
    "### What This Loop Does\n",
    "\n",
    "- In each round of the loop, the turtle changes its pen color to the next one in the list and then moves forward a bit.\n",
    "- The turtle draws a line in \"blue,\" then \"green,\" then \"red,\" and finally \"yellow.\"\n",
    "\n",
    "### Why This Is Cool\n",
    "\n",
    "By using a list in a for loop with our turtle, we can easily make colorful drawings. It's a great way to see the power of lists and loops in action, making coding more fun and visual!\n",
    "\n",
    "### In a Nutshell\n",
    "\n",
    "Using a for loop with a list to control our turtle turns our code into a paintbrush, letting us create a colorful path on the screen. It's like teaching the turtle to dance in a rainbow of colors! 🐢🎨🌟"
   ]
  },
  {
   "cell_type": "markdown",
   "metadata": {},
   "source": [
    "## Challenge 1: Colorful Squares\n",
    "\n",
    "Create a program that uses the Turtle module to draw squares in different colors.\n",
    "\n",
    "**To Do:**\n",
    "\n",
    "1. Create a list of colors like `[\"red\", \"green\", \"blue\", \"yellow\"]`.\n",
    "2. Use a for loop to iterate through each color in the list.\n",
    "3. For each color, draw a square using the Turtle module and then pick the next color for the next square.\n",
    "4. Make sure to change the position of the turtle so that the squares do not overlap.\n"
   ]
  },
  {
   "cell_type": "code",
   "execution_count": null,
   "metadata": {},
   "outputs": [],
   "source": [
    "from ipyturtle import Turtle\n",
    "\n",
    "t = Turtle()\n",
    "colors = [\"red\", \"green\", \"blue\", \"yellow\"]"
   ]
  },
  {
   "cell_type": "markdown",
   "metadata": {},
   "source": [
    "## Challenge 2: Increasing Circles\n",
    "\n",
    "Write a program that draws circles with increasing radii.\n",
    "\n",
    "**To Do:**\n",
    "\n",
    "1. Create a range of numbers using `range()` (for example, `range(5, 50, 10)`).\n",
    "2. Use a for loop to iterate over this range.\n",
    "3. In each iteration, draw a circle with the radius equal to the current number in the range.\n",
    "4. Optional: Change colors for each circle to make it more colorful."
   ]
  },
  {
   "cell_type": "code",
   "execution_count": null,
   "metadata": {},
   "outputs": [],
   "source": [
    "from ipyturtle import Turtle\n",
    "\n",
    "t = Turtle()"
   ]
  }
 ],
 "metadata": {
  "kernelspec": {
   "display_name": ".venv",
   "language": "python",
   "name": "python3"
  },
  "language_info": {
   "codemirror_mode": {
    "name": "ipython",
    "version": 3
   },
   "file_extension": ".py",
   "mimetype": "text/x-python",
   "name": "python",
   "nbconvert_exporter": "python",
   "pygments_lexer": "ipython3",
   "version": "3.8.10"
  },
  "orig_nbformat": 4
 },
 "nbformat": 4,
 "nbformat_minor": 2
}
