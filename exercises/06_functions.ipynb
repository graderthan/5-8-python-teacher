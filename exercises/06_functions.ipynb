{
 "cells": [
  {
   "cell_type": "markdown",
   "metadata": {},
   "source": [
    "# How Functions Work in Python\n",
    "\n",
    "Hello budding programmers! Today, we're diving into the world of Python, and specifically, we're going to explore functions. We'll even use Python's Turtle module to make our learning visually exciting! Ready? Let's get started!\n"
   ]
  },
  {
   "cell_type": "markdown",
   "metadata": {},
   "source": [
    "## What is a Function?\n",
    "\n",
    "In Python, a function is like a mini-program within a program. It's a block of code that you can call over and over again to perform a specific task. Think of it like a recipe. You have a recipe (function) for a cake, and every time you want a cake, you just use that recipe instead of writing it from scratch.\n"
   ]
  },
  {
   "cell_type": "markdown",
   "metadata": {},
   "source": [
    "## The Syntax of a Function\n",
    "\n",
    "The basic structure of a function in Python is:\n",
    "\n",
    "```python\n",
    "def function_name():\n",
    "    # code goes here\n",
    "```\n",
    "\n",
    "- `def` tells Python you're defining a function.\n",
    "- `function_name` is the name of your function. You'll use this to call it later.\n",
    "- Inside the parentheses `()` and the indented block is where your code lives.\n"
   ]
  },
  {
   "cell_type": "markdown",
   "metadata": {},
   "source": [
    "## Example Basic Function\n",
    "\n",
    "The function `say_hello()` simply prints the word \"Hello\" when called."
   ]
  },
  {
   "cell_type": "code",
   "execution_count": null,
   "metadata": {},
   "outputs": [],
   "source": [
    "def say_hello():\n",
    "    print(\"Hello\")\n",
    "\n",
    "say_hello()"
   ]
  },
  {
   "cell_type": "markdown",
   "metadata": {},
   "source": [
    "- `def say_hello():` defines a new function named `say_hello`.\n",
    "  \n",
    "- `print(\"Hello\")` inside the function: When `say_hello` is called, it executes this line to print the word \"Hello\" to the console.\n",
    "  \n",
    "- `say_hello()` calls the `say_hello` function, triggering the execution of the `print(\"Hello\")` command inside it."
   ]
  },
  {
   "cell_type": "markdown",
   "metadata": {},
   "source": [
    "## Example Function With Arguments\n",
    "\n",
    "This function, `say_hello`, prints a greeting using the name provided by the user through the `input` function."
   ]
  },
  {
   "cell_type": "code",
   "execution_count": null,
   "metadata": {},
   "outputs": [],
   "source": [
    "def say_hello(name):\n",
    "    print(\"Hello \"+name)\n",
    "\n",
    "your_name = input(\"What is your name? \")\n",
    "say_hello(your_name)"
   ]
  },
  {
   "cell_type": "markdown",
   "metadata": {},
   "source": [
    "- `def say_hello(name):` defines a function named `say_hello` that takes one parameter, `name`.\n",
    "  \n",
    "- Inside the function, `print(\"Hello \" + name)` concatenates \"Hello \" with the `name` parameter and prints the greeting.\n",
    "  \n",
    "- `your_name = input(\"What is your name? \")` asks the user to input their name and stores it in the variable `your_name`.\n",
    "  \n",
    "- `say_hello(your_name)` calls the `say_hello` function with `your_name` as the argument, triggering the function to print a personalized greeting.\n",
    "\n",
    "### What is a Parameter?\n",
    "\n",
    "A parameter is a variable listed inside the parentheses in a function definition, used to accept values passed to the function when it is called. It acts like a placeholder for the data that the function can work with."
   ]
  },
  {
   "cell_type": "markdown",
   "metadata": {},
   "source": [
    "## A Function That Returns a Result\n",
    "\n",
    "The function named 'add' takes two numbers as inputs and returns their sum, which in this case is 5 when we pass 2 and 3 to it."
   ]
  },
  {
   "cell_type": "code",
   "execution_count": null,
   "metadata": {},
   "outputs": [],
   "source": [
    "def add(num_1, num_2):\n",
    "    return num_1+num_2\n",
    "\n",
    "result = add(2, 3)\n",
    "print(result)"
   ]
  },
  {
   "cell_type": "markdown",
   "metadata": {},
   "source": [
    "- The function `add(num_1, num_2)` takes two parameters, `num_1` and `num_2`, and returns their sum.\n",
    "- When `add(2, 3)` is called, it calculates the sum of 2 and 3, which is 5.\n",
    "- The result of the function call, which is 5, is stored in the variable `result` and then printed.\n",
    "\n",
    "### What does `return` mean?\n",
    "\n",
    "The `return` statement in a function sends a value back to the place where the function was called. It exits the function and can pass a result, such as a calculation or data, back to the caller."
   ]
  },
  {
   "cell_type": "code",
   "execution_count": null,
   "metadata": {},
   "outputs": [],
   "source": [
    "\n",
    "from ipyturtle import Turtle\n",
    "\n",
    "squirtle = Turtle()\n",
    "\n",
    "def draw_square():\n",
    "    for _ in range(4):\n",
    "        squirtle.forward(100)\n",
    "        squirtle.right(90)\n",
    "    \n",
    "    return squirtle.pos()\n",
    "\n",
    "draw_square()\n"
   ]
  },
  {
   "cell_type": "markdown",
   "metadata": {},
   "source": [
    "In this function, `draw_square()` tells the turtle to move forward by 100 units\n",
    "and turn right by 90 degrees, repeating these steps four times to create a\n",
    "square.\n",
    "\n",
    "The `return` keyword in a function sends back a value or result to the place\n",
    "where the function was called. \n",
    "\n",
    "In this function, `return turtle.pos()` is key. It returns the turtle's position\n",
    "after it draws the square. So, when you use `draw_square()`, you get both a\n",
    "square and the turtle's final coordinates. This is handy for tracking the\n",
    "turtle's location after drawing. \n"
   ]
  },
  {
   "cell_type": "markdown",
   "metadata": {},
   "source": [
    "## Function with Arguments\n",
    "\n",
    "Now, let's make our function more flexible by adding arguments:\n"
   ]
  },
  {
   "cell_type": "code",
   "execution_count": null,
   "metadata": {},
   "outputs": [],
   "source": [
    "from ipyturtle import Turtle\n",
    "\n",
    "squirtle = Turtle()\n",
    "\n",
    "def draw_square(steps):\n",
    "    for _ in range(4):\n",
    "        squirtle.forward(steps)\n",
    "        squirtle.right(90)\n",
    "\n",
    "draw_square(50)\n",
    "\n"
   ]
  },
  {
   "cell_type": "markdown",
   "metadata": {},
   "source": [
    "**What are Arguments?**\n",
    "\n",
    "Arguments are values you pass to a function when you call it. They're kind of\n",
    "like the ingredients in our cake recipe. In the `draw_square` function, `steps`\n",
    "is an argument that lets us change the size of the square. \n"
   ]
  },
  {
   "cell_type": "markdown",
   "metadata": {},
   "source": [
    "\n",
    "## Coding Challenges\n",
    "\n",
    "Here are your updated coding challenges with instructions, function signatures, examples, and hints. Let's get creative with Python's Turtle graphics!\n",
    "\n",
    "### Challenge 1: Simple Triangle Function\n",
    "\n",
    "**Task**: Write a function named `draw_triangle()` that draws a simple triangle, without accepting any arguments.\n",
    "\n",
    "**Function Signature Example**:\n",
    "\n",
    "```python\n",
    "def draw_triangle():\n",
    "    # Your code here\n",
    "```\n",
    "\n",
    "**Example of Calling the Function**:\n",
    "\n",
    "```python\n",
    "draw_triangle()\n",
    "```\n",
    "\n",
    "**Hints**:\n",
    "- Use the `turtle.forward()` and `turtle.right()` functions to draw each side and angle of the triangle.\n",
    "- The sum of angles in a triangle is 180 degrees, so consider using angles like 60, 60, and 60 degrees for an equilateral triangle.\n"
   ]
  },
  {
   "cell_type": "code",
   "execution_count": null,
   "metadata": {},
   "outputs": [],
   "source": [
    "# Write you answer here\n"
   ]
  },
  {
   "cell_type": "markdown",
   "metadata": {},
   "source": [
    "### Challenge 2: Triangle Function with Angle Arguments\n",
    "\n",
    "**Task**: Modify `draw_triangle()` to accept three number arguments, each representing the degrees of an angle. If the sum of these angles doesn't equal 180 degrees, print \"Error\" and return. Otherwise, have the turtle draw the triangle using these angles.\n",
    "\n",
    "**Function Signature Example**:\n",
    "\n",
    "```python\n",
    "def draw_triangle(angle1, angle2, angle3):\n",
    "    # Your code here\n",
    "```\n",
    "\n",
    "**Example of Calling the Function**:\n",
    "\n",
    "```python\n",
    "draw_triangle(60, 60, 60)\n",
    "```\n",
    "\n",
    "**Hints**:\n",
    "- Before drawing, check if `angle1 + angle2 + angle3 == 180`. If not, print \"Error\".\n",
    "- Remember to turn the turtle the right amount for each angle.\n"
   ]
  },
  {
   "cell_type": "code",
   "execution_count": null,
   "metadata": {},
   "outputs": [],
   "source": [
    "# Write you answer here\n"
   ]
  },
  {
   "cell_type": "markdown",
   "metadata": {},
   "source": [
    "\n",
    "### Challenge 3: Triangle Function with Colors\n",
    "\n",
    "**Task**: Enhance the `draw_triangle()` function to accept a fourth argument, which is a list of colors. Each side of the triangle should be drawn in a different color from this list.\n",
    "\n",
    "**Function Signature Example**:\n",
    "\n",
    "```python\n",
    "def draw_triangle(angle1, angle2, angle3, colors):\n",
    "    # Your code here\n",
    "```\n",
    "\n",
    "**Example of Calling the Function**:\n",
    "\n",
    "```python\n",
    "draw_triangle(60, 60, 60, [\"red\", \"green\", \"blue\"])\n",
    "```\n",
    "\n",
    "**Hints**:\n",
    "- Use `turtle.color(color)` to set the color before drawing each side.\n",
    "- Make sure your `colors` list has three colors to correspond with the three sides of the triangle.\n"
   ]
  },
  {
   "cell_type": "code",
   "execution_count": null,
   "metadata": {},
   "outputs": [],
   "source": [
    "# Write you answer here\n"
   ]
  }
 ],
 "metadata": {
  "kernelspec": {
   "display_name": ".venv",
   "language": "python",
   "name": "python3"
  },
  "language_info": {
   "codemirror_mode": {
    "name": "ipython",
    "version": 3
   },
   "file_extension": ".py",
   "mimetype": "text/x-python",
   "name": "python",
   "nbconvert_exporter": "python",
   "pygments_lexer": "ipython3",
   "version": "3.8.10"
  },
  "orig_nbformat": 4
 },
 "nbformat": 4,
 "nbformat_minor": 2
}
