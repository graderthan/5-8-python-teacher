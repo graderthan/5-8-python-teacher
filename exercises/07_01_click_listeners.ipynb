{
 "cells": [
  {
   "cell_type": "markdown",
   "metadata": {},
   "source": [
    "# Using Click Listeners with Jupyter Widgets\n",
    "\n",
    "Today, we will make our code interactive by adding buttons and other user\n",
    "interface components. We will learn about `click listeners` to enable our\n",
    "functions to run whenever a user clicks a button on the screen. \n",
    "\n",
    "### 💡 What is `click listener`?\n",
    "\n",
    "A click listener is a programming feature that waits for a click event, like a\n",
    "button press, in a user interface. When the click happens, it triggers a\n",
    "specific function or action defined in the program to respond to that event. In\n",
    "the code above `say_hello` is the click listener for the button we set the\n",
    "listener using the function `button.on_click(...)`.\n"
   ]
  },
  {
   "cell_type": "markdown",
   "metadata": {},
   "source": [
    "\n",
    "\n",
    "## Introduction to the Button Widget\n",
    "\n",
    "### What does this Code do?\n",
    "\n",
    "This code snippet creates a simple button in a Jupyter notebook using ipywidgets.\n"
   ]
  },
  {
   "cell_type": "code",
   "execution_count": null,
   "metadata": {},
   "outputs": [],
   "source": [
    "import ipywidgets as widgets\n",
    "\n",
    "button = widgets.Button(\n",
    "    description='Click me',\n",
    "    button_style='',\n",
    "    tooltip='Click me',\n",
    ")\n",
    "\n",
    "button"
   ]
  },
  {
   "cell_type": "markdown",
   "metadata": {},
   "source": [
    "\n",
    "### Walk through the code\n",
    "\n",
    "- The line `import ipywidgets as widgets` gets everything ready so we can use cool interactive buttons in our notebook.\n",
    "- By using `widgets.Button`, we make a new button that says 'Click me'.\n",
    "- The bits `button_style=''` and `tooltip='Click me'` are like button decorations, but here we're keeping it simple with no special style.\n",
    "- The final line, `button` tells python to display the button.\n",
    "\n",
    "**Fun Note:**\n",
    "\n",
    "Hey there! You've just created a cool button. Go ahead, click it! Spoiler: It won't do anything yet, but we'll fix that soon. 🙃\n"
   ]
  },
  {
   "cell_type": "markdown",
   "metadata": {},
   "source": [
    "## Adding a Click Listener to the Button\n",
    "\n",
    "### What does this Code do?\n",
    "\n",
    "A click listener is a function that waits for a button to be clicked. When the button is clicked, it performs a specific action."
   ]
  },
  {
   "cell_type": "code",
   "execution_count": null,
   "metadata": {},
   "outputs": [],
   "source": [
    "import ipywidgets as widgets\n",
    "\n",
    "button = widgets.Button(\n",
    "    description='Say Hello',\n",
    "    button_style='',\n",
    "    tooltip='Say hello',\n",
    ")\n",
    "\n",
    "def say_hello(b):\n",
    "    print(\"Hello\")\n",
    "\n",
    "button.on_click(say_hello)\n",
    "button"
   ]
  },
  {
   "cell_type": "markdown",
   "metadata": {},
   "source": [
    "### Walk through the code\n",
    "\n",
    "- `def say_hello(b):` defines a function `say_hello`, which is called when the\n",
    "  button is clicked. The `b` parameter represents the button. \n",
    "- `print(\"Hello\")` is the action performed when the button is clicked - it\n",
    "  prints \"Hello\". \n",
    "- `button.on_click(say_hello)` attaches the `say_hello` function to the button,\n",
    "  making it listen for click events. \n",
    "- The final line, `button` tells python to display the button.\n",
    "\n",
    "Now, when you click the 'Say Hello' button, it actually does something - it says hello! Pretty neat, right? 😄👩‍💻👨‍💻🖱️"
   ]
  },
  {
   "cell_type": "markdown",
   "metadata": {},
   "source": [
    "### Make an edit to the code ✍🏽:\n",
    "\n",
    "It's your turn to try! Modify the code above to print to `Hello` with your name."
   ]
  },
  {
   "cell_type": "markdown",
   "metadata": {},
   "source": [
    "## User Input\n",
    "\n",
    "### What does this Code do?\n",
    "\n",
    "This code adds an area where you can type your name and a button. When you click the button, it greets you by the name you entered.\n"
   ]
  },
  {
   "cell_type": "code",
   "execution_count": null,
   "metadata": {},
   "outputs": [],
   "source": [
    "import ipywidgets as widgets\n",
    "\n",
    "button = widgets.Button(\n",
    "    description='Say Hello',\n",
    "    button_style='',\n",
    "    tooltip='Say hello',\n",
    ")\n",
    "\n",
    "text = widgets.Text(\n",
    "    value='',\n",
    "    placeholder='Type your name',\n",
    "    description='Your Name:',\n",
    "    disabled=False   \n",
    ")\n",
    "\n",
    "def say_hello(b):\n",
    "    print(\"Hello \" + text.value+ \" how are you?\")\n",
    "\n",
    "button.on_click(say_hello)\n",
    "\n",
    "box = widgets.VBox([text, button])\n",
    "box"
   ]
  },
  {
   "cell_type": "markdown",
   "metadata": {},
   "source": [
    "### Walk through the code\n",
    "\n",
    "- **Text Widget:** `widgets.Text` creates an area where you can type something, in this case, your name. It's set up with a placeholder text 'Type your name', so you know what to do.\n",
    "- **Modified `say_hello()` Function:** The `say_hello(b)` function now includes `text.value`, which grabs the name you type into the text box. When you click the button, it prints a greeting with this name.\n",
    "- **VBox Widget:** `widgets.VBox([text, button])` neatly arranges the text box and the button vertically. When we display `box`, you see the text box on top and the button below.\n",
    "\n",
    "With these widgets, your notebook becomes interactive and personal! Type your name, hit the button, and see the personalized greeting. Isn't it fun? 😄🖊️🔘📝"
   ]
  },
  {
   "cell_type": "markdown",
   "metadata": {},
   "source": [
    "### Fix the code 👩🏻‍🔧👨🏿‍🔧:\n",
    "\n",
    "Modify the code above so that it checks if you've actually entered a name before it prints the greeting. You'll need to make changes to the `say_hello()` function by adding an `if` statement to see if `text.value` is blank.\n",
    "\n",
    "**Your Task**:\n",
    "- Change `say_hello()` to include an `if` statement that checks if `text.value` is not empty.\n",
    "- If there's no name typed in, maybe print something like \"Please enter your name\".\n",
    "- If there is a name, it should work as before, greeting you by the name you entered.\n",
    "\n",
    "**Hints**:\n",
    "- Remember, an empty text box means `text.value` will be an empty string, `''`.\n",
    "- You might want to use an `else:` statement for when there's no name entered.\n",
    "\n",
    "Get coding and see if you can make your greeting smarter! 🧑‍💻👩🏽‍💻🌟🖊️"
   ]
  },
  {
   "cell_type": "markdown",
   "metadata": {},
   "source": [
    "## Adding a Label Component to Enhance User Interaction\n",
    "\n",
    "### What does this Code do?\n",
    "\n",
    "We're now going to enhance our interactive notebook by adding a label component. This label will give users feedback based on their input. Let's see how it works with the code below:"
   ]
  },
  {
   "cell_type": "code",
   "execution_count": null,
   "metadata": {},
   "outputs": [],
   "source": [
    "import ipywidgets as widgets\n",
    "\n",
    "button = widgets.Button(\n",
    "    description='Say Hello',\n",
    "    button_style='',\n",
    "    tooltip='Say hello',\n",
    ")\n",
    "\n",
    "text = widgets.Text(\n",
    "    value='',\n",
    "    placeholder='Type your name',\n",
    "    description='Your Name:',\n",
    "    disabled=False   \n",
    ")\n",
    "\n",
    "label = widgets.Label(value=\"Please type your name\")\n",
    "\n",
    "def say_hello(b):\n",
    "    if text.value:\n",
    "        label.value = \"Hello \" + text.value + \" how are you?\"\n",
    "    else:\n",
    "        label.value = \"Please type your name\"\n",
    "\n",
    "button.on_click(say_hello)\n",
    "\n",
    "box = widgets.VBox([label, text, button])\n",
    "box"
   ]
  },
  {
   "cell_type": "markdown",
   "metadata": {},
   "source": [
    "\n",
    "### Walk through the code\n",
    "\n",
    "- **Label Widget:** `widgets.Label(value=\"Please type your name\")` creates a text label that initially asks the user to type their name.\n",
    "- **Updated `say_hello()` Function:** This function now updates `label.value`. If a name is entered, it changes to a personalized greeting. If not, it reminds the user to type their name.\n",
    "- **Layout with VBox:** We've added `label` to our `widgets.VBox` arrangement. Now, the label appears at the top, followed by the text box, and then the button.\n",
    "\n",
    "By adding this label, we make our notebook more interactive and user-friendly. It guides the user on what to do and provides immediate feedback based on their input. Try it out and see the label change as you interact with the widgets! 🏷️👩‍💻👨‍💻🌟"
   ]
  },
  {
   "cell_type": "markdown",
   "metadata": {},
   "source": [
    "## Coding Challenge: Create a Math Addition Solver\n",
    "\n",
    "Now, let's put your skills to the test with a fun coding challenge. You're going to create a math addition solver! This application will display a random addition question (like \"7 + 6 = \"), and the user has to type in the correct answer and press a button to check it. If the answer is correct, a new random addition question will appear.\n",
    "\n",
    "**Quick Note on Random Numbers:**\n",
    "To select random whole numbers in Python, you can use the `random` package. Specifically, `random.randint(a, b)` gives you a random number between `a` and `b` (inclusive). For example, `random.randint(1, 10)` will give you a random number between 1 and 10.\n",
    "\n",
    "**Your Task**:\n",
    "- Create a function to generate a random addition question.\n",
    "- Display this question in a label.\n",
    "- Let the user input their answer in a text box.\n",
    "- Add a button to check the answer.\n",
    "- If the answer is correct, show a new random question.\n",
    "\n",
    "**Hints**:\n",
    "- Start by importing the `random` module with `import random`.\n",
    "- Use `random.randint()` to generate two random numbers for your addition question.\n",
    "    ```py\n",
    "    import random\n",
    "\n",
    "    num1 = random.randint(1, 10)\n",
    "    ```\n",
    "- You can concatenate numbers and strings to create the question like `str(num1) + \" + \" + str(num2) + \" = \"`.\n",
    "- Remember to convert the user's answer from string to an integer with `int()` before comparing.\n",
    "- Use a label widget to display whether the answer is correct and to prompt a new question.\n",
    "\n",
    "This is a great way to practice creating interactive applications with Python. Have fun coding your math addition solver! 🧮👩‍💻👨‍💻🎲"
   ]
  },
  {
   "cell_type": "code",
   "execution_count": null,
   "metadata": {},
   "outputs": [],
   "source": [
    "import ipywidgets as widgets\n",
    "import random\n",
    "\n",
    "# you can select a random number like this num1 = random.randint(1, 10)"
   ]
  },
  {
   "cell_type": "markdown",
   "metadata": {},
   "source": [
    "<style>\n",
    "  .container {\n",
    "    border: 1px solid black;\n",
    "    padding: 10px;\n",
    "    cursor: pointer;\n",
    "    overflow: hidden;\n",
    "    transition: max-height 1s ease-in-out;\n",
    "    max-width:800px;\n",
    "  }\n",
    "  .fade {\n",
    "    transition: opacity 1s ease-in-out;\n",
    "    opacity: 0;\n",
    "    pointer-events: none;\n",
    "    max-height: 0;\n",
    "    white-space: pre;\n",
    "  }\n",
    "  .fade-in {\n",
    "    opacity: 1;\n",
    "    pointer-events: auto;\n",
    "    max-height: 800px; /* Use an arbitrary large height to accommodate the content */\n",
    "  }\n",
    "</style>\n",
    "\n",
    "<div class=\"container\"\n",
    "     onmouseover=\"this.querySelector('.answer').classList.add('fade-in'); this.querySelector('.prompt').classList.remove('fade-in');\"\n",
    "     onmouseout=\"this.querySelector('.answer').classList.remove('fade-in'); this.querySelector('.prompt').classList.add('fade-in');\">\n",
    "    <span class=\"prompt fade-in\">Show answer</span>\n",
    "    <div class=\"answer fade\">\n",
    "    \n",
    "<pre>  \n",
    "import ipywidgets as widgets\n",
    "import random\n",
    "\n",
    "# Widgets\n",
    "question = widgets.Label()\n",
    "answer_input = widgets.Text(placeholder='Type your answer here')\n",
    "check_button = widgets.Button(description='Check Answer')\n",
    "feedback = widgets.Label(value=\"Answer the question:\")\n",
    "\n",
    "# Function to create a new addition question\n",
    "def create_question():\n",
    "    num1 = random.randint(1, 10)\n",
    "    num2 = random.randint(1, 10)\n",
    "    question.value = f\"{num1} + {num2} =\"\n",
    "    return num1 + num2\n",
    "\n",
    "# Function to check the answer\n",
    "def check_answer(b):\n",
    "    global correct_answer\n",
    "    user_answer = int(answer_input.value)\n",
    "    if user_answer == correct_answer:\n",
    "        correct_answer = create_question()\n",
    "        answer_input.value = ''\n",
    "        feedback.value = \"Correct! Try this one:\"\n",
    "    else:\n",
    "        feedback.value = \"Oops! Try again.\"\n",
    "\n",
    "# Initialize question and set button click event\n",
    "correct_answer = create_question()\n",
    "check_button.on_click(check_answer)\n",
    "\n",
    "box = widgets.VBox([question, answer_input, check_button, feedback])\n",
    "box\n",
    "</pre>\n",
    "\n",
    "  </div>\n",
    "</div>"
   ]
  }
 ],
 "metadata": {
  "kernelspec": {
   "display_name": ".venv",
   "language": "python",
   "name": "python3"
  },
  "language_info": {
   "codemirror_mode": {
    "name": "ipython",
    "version": 3
   },
   "file_extension": ".py",
   "mimetype": "text/x-python",
   "name": "python",
   "nbconvert_exporter": "python",
   "pygments_lexer": "ipython3",
   "version": "3.8.10"
  },
  "orig_nbformat": 4
 },
 "nbformat": 4,
 "nbformat_minor": 2
}
