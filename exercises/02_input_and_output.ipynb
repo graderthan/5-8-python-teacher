{
 "cells": [
  {
   "cell_type": "markdown",
   "metadata": {},
   "source": [
    "# Exploring the Input and Print Functions in Python\n",
    "\n",
    "Hey there! Today, we're going to learn about two super handy functions in Python: `input()` and `print()`. These are like the basic tools for chatting with your computer! 🗨️💻\n"
   ]
  },
  {
   "cell_type": "markdown",
   "metadata": {},
   "source": [
    "\n",
    "## What is the `print()` Function?\n",
    "\n",
    "<style>\n",
    "html,body        {height: 100%;}\n",
    ".wrapper         {width: 70%; max-width: 1280px; height: 100%; margin: 0 auto; background: rgba(255, 255, 255, .0); padding-bottom: 50px}\n",
    ".h_iframe        {position: relative; padding-top: 56%;}\n",
    ".h_iframe iframe {position: absolute; top: 0; left: 0; width: 100%; height: 100%;}\n",
    "</style>\n",
    "\n",
    "<div class=\"wrapper\">\n",
    "    <div class=\"h_iframe\">\n",
    "        <iframe height=\"2\" width=\"2\" src=\"https://www.youtube.com/embed/IzSaOmNVFF8\" title=\"YouTube video player\" frameborder=\"0\" allow=\"accelerometer; autoplay; clipboard-write; encrypted-media; gyroscope; picture-in-picture; web-share\" allowfullscreen></iframe>\n",
    "    </div>\n",
    "</div>\n",
    "\n",
    "The `print()` function is like saying \"Show this on the screen.\" It takes\n",
    "whatever message you give it and displays it for you to see. Let's try it:\n",
    "\n",
    "*Run the code in the cell below*"
   ]
  },
  {
   "cell_type": "code",
   "execution_count": null,
   "metadata": {},
   "outputs": [],
   "source": [
    "print(\"Hello, world!\")"
   ]
  },
  {
   "cell_type": "markdown",
   "metadata": {},
   "source": [
    "\n",
    "When you run this code, you'll see the message \"Hello, world!\" pop up on your\n",
    "screen below the code cell. The computer is speaking to you!\n"
   ]
  },
  {
   "cell_type": "markdown",
   "metadata": {},
   "source": [
    "### Understanding `print(\"Hello, world!\")`\n",
    "\n",
    "Hey! Let's dive into a cool piece of Python code: `print(\"Hello, world!\")`. This\n",
    "line is often the first thing you learn in Python, and it's pretty fun. 🌟 \n",
    "\n",
    "#### What Does the Code Do?\n",
    "\n",
    "When you run `print(\"Hello, world!\")`, your computer will display the words\n",
    "`Hello, world!` on the screen. It's like you're telling the computer, \"Hey, show\n",
    "these words to me!\" \n",
    "\n",
    "#### Breaking Down the Syntax\n",
    "\n",
    "- **`print()` Function:** The word `print` is a special command in Python. It's\n",
    "  what we call a 'function'. When you use it, you're telling the computer to do\n",
    "  a specific job. In this case, the job is to show or 'print' something on the\n",
    "  screen. \n",
    "\n",
    "- **Parentheses `()` :** These round brackets are super important. They always\n",
    "  come after a function like `print`. They let the computer know what we want to\n",
    "  print. Without them, the computer won't understand what we're asking. \n",
    "\n",
    "- **Double Quotes `\" \"` :** Inside the parentheses, we have our message, `Hello,\n",
    "  world!`, surrounded by double quotes. These quotes tell Python, \"Hey, this is\n",
    "  a text message.\"  \n",
    "\n",
    "#### What's a String?\n",
    "\n",
    "The text `Hello, world!` inside the quotes is what we call a 'string' in\n",
    "programming. A string is just a series of characters (like letters, numbers, or\n",
    "symbols) that we treat as text. Think of it like a string of beads, where each\n",
    "bead is a character. \n",
    "\n",
    "#### So, What Happens?\n",
    "\n",
    "When you write `print(\"Hello, world!\")` and run it:\n",
    "\n",
    "1. Python sees `print` and understands you want to display something.\n",
    "2. It looks inside the parentheses and finds `\"Hello, world!\"`.\n",
    "3. Python recognizes this as a string of text.\n",
    "4. It then shows `Hello, world!` on your screen, just like you asked!\n",
    "\n",
    "This line of code is like your first step in talking to the computer, and it's\n",
    "saying a friendly hello to the world of coding. Isn't that awesome? 😃💻🌍 "
   ]
  },
  {
   "cell_type": "markdown",
   "metadata": {},
   "source": [
    "### Try it!\n",
    "\n",
    "Change the string in the code cell below to print your favorite song lyrics.\n",
    "Make sure you include quotes `\"\"` around your lyrics!"
   ]
  },
  {
   "cell_type": "code",
   "execution_count": null,
   "metadata": {},
   "outputs": [],
   "source": [
    "print(\"\")"
   ]
  },
  {
   "cell_type": "markdown",
   "metadata": {},
   "source": [
    "\n",
    "## What is the `input()` Function?\n",
    "\n",
    "<style>\n",
    "html,body        {height: 100%;}\n",
    ".wrapper         {width: 70%; max-width: 1280px; height: 100%; margin: 0 auto; background: rgba(255, 255, 255, .0); padding-bottom: 50px}\n",
    ".h_iframe        {position: relative; padding-top: 56%;}\n",
    ".h_iframe iframe {position: absolute; top: 0; left: 0; width: 100%; height: 100%;}\n",
    "</style>\n",
    "\n",
    "<div class=\"wrapper\">\n",
    "    <div class=\"h_iframe\">\n",
    "        <iframe height=\"2\" width=\"2\" src=\"https://www.youtube.com/embed/iMuGFwX1Iaw\" title=\"YouTube video player\" frameborder=\"0\" allow=\"accelerometer; autoplay; clipboard-write; encrypted-media; gyroscope; picture-in-picture; web-share\" allowfullscreen></iframe>\n",
    "    </div>\n",
    "</div>\n",
    "\n",
    "Now, let's talk about `input()`. This function is like asking someone a question and waiting for their answer. When you use `input()`, your computer will pause and wait for you to type something. After you type your answer and press **Enter**, the program will continue.\n",
    "\n",
    "Run the code below. The computer will ask, \"What is your name?\", then it will\n",
    "stop and wait for you to type your name. \n",
    "\n",
    "*When you run the code below, type in your name in the text field at the top of the screen above.* ☝🏽 *Press\n",
    "**Enter** when your done*"
   ]
  },
  {
   "cell_type": "code",
   "execution_count": null,
   "metadata": {},
   "outputs": [],
   "source": [
    "your_name = input(\"What is your name? \")"
   ]
  },
  {
   "cell_type": "markdown",
   "metadata": {},
   "source": [
    "### Breaking Down the Syntax\n",
    "\n",
    "- **`input()` Function**: The word `input` here is another special command in Python. It's a function that waits for you to type something and then press Enter.\n",
    "\n",
    "- **Parentheses and String**: Just like with `print()`, we have parentheses `()` here. Inside them, there's a string `\"What is your name? \"`. This string is a question that Python will show on the screen, waiting for your answer.\n",
    "\n",
    "- **Saving Your Answer**: Here's where the magic happens! When you type your name and press Enter, input() grabs that name and Python needs a place to store it.\n",
    "\n",
    "- **Variable `your_name`**: We have `your_name =` at the beginning. This part creates a box and labels it `your_name`. Python puts whatever you typed into this box. In coding, we call this box a 'variable'.\n",
    "\n",
    "### So, What Happens?\n",
    "\n",
    "1) Python shows the question \"What is your name?\" on the screen.\n",
    "2) You type your name and press **Enter**.\n",
    "3) `input()` takes what you typed (your name) and passes it to Python.\n",
    "4) Python then stores your name in the `your_name` variable. It’s like putting a note in a box labeled `your_name`.\n",
    "   \n",
    "Next time you use `your_name` in your code, Python will remember it’s the name you typed in. It’s like your computer now knows your"
   ]
  },
  {
   "cell_type": "markdown",
   "metadata": {},
   "source": [
    "## Putting it together\n",
    "\n",
    "Now, let’s combine these two functions to make a mini conversation with your\n",
    "computer!\n",
    "\n",
    "Earlier you typed in your name and python saved it in a variable called\n",
    "`your_name`. Below we will print it our in a greeting with the `print()` function\n",
    "we learned about earlier."
   ]
  },
  {
   "cell_type": "code",
   "execution_count": null,
   "metadata": {},
   "outputs": [],
   "source": [
    "print(\"Nice to meet you,\" + your_name + \"!\")"
   ]
  },
  {
   "cell_type": "markdown",
   "metadata": {},
   "source": [
    "\n",
    "## Let's Make a Calculator! 🧮✨\n",
    "\n",
    "Hey there! Today, we're going to create our very own calculator using Python.\n",
    "Don't worry, it's simple and super fun. We'll use the functions you already know\n",
    "`input` and `print`, and a new function called `float`. \n",
    "\n",
    "Ready? Let's get started step by step!"
   ]
  },
  {
   "cell_type": "markdown",
   "metadata": {},
   "source": [
    "\n",
    "### Step 1: Ask for the Numbers\n",
    "\n",
    "First, our calculator needs to know which numbers it's working with. We use the\n",
    "`input` function to ask the user (that's you!) to type in the numbers.\n",
    "\n",
    "Finish the code below by creating the second variable named `second_input_number` and\n",
    "setting it equal to the value of the `input()` function like the code on the first\n",
    "line.\n",
    "\n",
    "*Don't worry about the syntax error. Python is telling use we have unfinished\n",
    "code. Once you have finished the code it will go away.*"
   ]
  },
  {
   "cell_type": "code",
   "execution_count": null,
   "metadata": {},
   "outputs": [],
   "source": [
    "first_input_number = input(\"Enter the first number: \")\n",
    "\n",
    "second_input_number ="
   ]
  },
  {
   "cell_type": "markdown",
   "metadata": {},
   "source": [
    "\n",
    "### Step 2: Convert to Numbers\n",
    "\n",
    "Numbers we get from `input` are like words (strings) to Python. We need to\n",
    "change them into numbers (floats) so we can do math with them. This is like\n",
    "turning word puzzles into actual numbers!\n",
    "\n",
    "**Example:**\n",
    "\n",
    "```py\n",
    "number_string = \"1234\"\n",
    "number = float(number_string)\n",
    "```\n",
    "\n",
    "The code converts a string, `\"1234\"`, into a number.\n",
    "\n",
    "- `number_string = \"1234\"`: Here, `number_string` is assigned the text `\"1234\"`. It's a string, not a number, because it's in quotes.\n",
    "- `number = float(number_string)`: This line changes the string `\"1234\"` into a float (which is a type of number that can have decimals, even though this one doesn't). Now, `number` is `1234` as a numeric value, not text.\n",
    "\n",
    "Finish the code below so that it converts variables `first_input_number` and `second_input_number` into numbers.\n"
   ]
  },
  {
   "cell_type": "code",
   "execution_count": null,
   "metadata": {},
   "outputs": [],
   "source": [
    "first_number = float(first_input_number)\n",
    "second_number = "
   ]
  },
  {
   "cell_type": "markdown",
   "metadata": {},
   "source": [
    "\n",
    "### Step 3: Do the Math!\n",
    "\n",
    "Here's where we make our calculator do the math. Finish code below so it prints\n",
    "the math `result`.\n"
   ]
  },
  {
   "cell_type": "code",
   "execution_count": null,
   "metadata": {},
   "outputs": [],
   "source": [
    "result = first_number + second_number\n",
    "\n",
    "print()"
   ]
  },
  {
   "cell_type": "markdown",
   "metadata": {},
   "source": [
    "### Complete code:\n",
    "\n",
    "In the code cell below you will see the complete calculator code. Try modifying\n",
    "it multiply instead of add."
   ]
  },
  {
   "cell_type": "code",
   "execution_count": 1,
   "metadata": {},
   "outputs": [
    {
     "name": "stdout",
     "output_type": "stream",
     "text": [
      "3.0\n"
     ]
    }
   ],
   "source": [
    "first_input_number = input(\"Enter the first number: \")\n",
    "second_input_number = input(\"Enter the second number: \")\n",
    "\n",
    "first_number = float(first_input_number)\n",
    "second_number = float(second_input_number)\n",
    "\n",
    "result = first_number + second_number\n",
    "\n",
    "print(result)"
   ]
  }
 ],
 "metadata": {
  "kernelspec": {
   "display_name": ".venv",
   "language": "python",
   "name": "python3"
  },
  "language_info": {
   "codemirror_mode": {
    "name": "ipython",
    "version": 3
   },
   "file_extension": ".py",
   "mimetype": "text/x-python",
   "name": "python",
   "nbconvert_exporter": "python",
   "pygments_lexer": "ipython3",
   "version": "3.8.10"
  },
  "orig_nbformat": 4
 },
 "nbformat": 4,
 "nbformat_minor": 2
}
